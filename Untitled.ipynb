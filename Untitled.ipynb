{
 "cells": [
  {
   "cell_type": "code",
   "execution_count": 1,
   "id": "6293a307-0047-4eff-b321-d01af21856ad",
   "metadata": {},
   "outputs": [
    {
     "ename": "ImportError",
     "evalue": "cannot import name 'FaissRM' from 'dspy.retrieve.faiss_rm' (/Users/nelsonstrimple/Documents/workout-vibe-code/myenv/lib/python3.13/site-packages/dspy/retrieve/faiss_rm.py)",
     "output_type": "error",
     "traceback": [
      "\u001b[31m---------------------------------------------------------------------------\u001b[39m",
      "\u001b[31mImportError\u001b[39m                               Traceback (most recent call last)",
      "\u001b[36mCell\u001b[39m\u001b[36m \u001b[39m\u001b[32mIn[1]\u001b[39m\u001b[32m, line 1\u001b[39m\n\u001b[32m----> \u001b[39m\u001b[32m1\u001b[39m \u001b[38;5;28;01mfrom\u001b[39;00m\u001b[38;5;250m \u001b[39m\u001b[34;01mdspy\u001b[39;00m\u001b[34;01m.\u001b[39;00m\u001b[34;01mretrieve\u001b[39;00m\u001b[34;01m.\u001b[39;00m\u001b[34;01mfaiss_rm\u001b[39;00m\u001b[38;5;250m \u001b[39m\u001b[38;5;28;01mimport\u001b[39;00m FaissRM\n",
      "\u001b[31mImportError\u001b[39m: cannot import name 'FaissRM' from 'dspy.retrieve.faiss_rm' (/Users/nelsonstrimple/Documents/workout-vibe-code/myenv/lib/python3.13/site-packages/dspy/retrieve/faiss_rm.py)"
     ]
    }
   ],
   "source": [
    "from dspy.retrieve.faiss_rm import FaissRM"
   ]
  },
  {
   "cell_type": "code",
   "execution_count": 3,
   "id": "40141691-2be1-4620-b3c9-b5d97a442004",
   "metadata": {},
   "outputs": [
    {
     "data": {
      "text/plain": [
       "'2.6.5'"
      ]
     },
     "execution_count": 3,
     "metadata": {},
     "output_type": "execute_result"
    }
   ],
   "source": [
    "import dspy\n",
    "dspy.__version__"
   ]
  },
  {
   "cell_type": "code",
   "execution_count": 4,
   "id": "dbaaab36-3a69-470c-aff6-ba61ad40ecae",
   "metadata": {},
   "outputs": [
    {
     "name": "stdout",
     "output_type": "stream",
     "text": [
      "3.13.2 (main, Mar  2 2025, 15:39:22) [Clang 13.1.6 (clang-1316.0.21.2.5)]\n"
     ]
    }
   ],
   "source": [
    "import sys\n",
    "print(sys.version)\n"
   ]
  },
  {
   "cell_type": "code",
   "execution_count": null,
   "id": "67dc9b72-9478-4fab-b115-052a82465f9a",
   "metadata": {},
   "outputs": [],
   "source": []
  }
 ],
 "metadata": {
  "kernelspec": {
   "display_name": "Python 3 (ipykernel)",
   "language": "python",
   "name": "python3"
  },
  "language_info": {
   "codemirror_mode": {
    "name": "ipython",
    "version": 3
   },
   "file_extension": ".py",
   "mimetype": "text/x-python",
   "name": "python",
   "nbconvert_exporter": "python",
   "pygments_lexer": "ipython3",
   "version": "3.13.2"
  }
 },
 "nbformat": 4,
 "nbformat_minor": 5
}
